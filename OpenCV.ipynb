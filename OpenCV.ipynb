{
 "cells": [
  {
   "cell_type": "markdown",
   "metadata": {},
   "source": [
    "# OpenCV"
   ]
  },
  {
   "cell_type": "code",
   "execution_count": 4,
   "metadata": {},
   "outputs": [],
   "source": [
    "import timeit, cv2\n",
    "\n",
    "default_setup = \"\"\"import cv2\n",
    "img = cv2.imread('/Users/kimfung/london.png', 1)\n",
    "\"\"\"\n",
    "\n",
    "def timer(s1, s2, num):\n",
    "    print(str(round(timeit.timeit(stmt = s1, setup = s2, number = num)/(num/1000), 3)), \"ms\")"
   ]
  },
  {
   "cell_type": "markdown",
   "metadata": {},
   "source": [
    "## 1. Loading an image"
   ]
  },
  {
   "cell_type": "code",
   "execution_count": 5,
   "metadata": {},
   "outputs": [
    {
     "name": "stdout",
     "output_type": "stream",
     "text": [
      "64.078 ms\n"
     ]
    }
   ],
   "source": [
    "timer(\"img = cv2.imread('/Users/kimfung/london.png', 1)\", \"import cv2\", 13)"
   ]
  },
  {
   "cell_type": "markdown",
   "metadata": {},
   "source": [
    "## 2. Displaying an image"
   ]
  },
  {
   "cell_type": "code",
   "execution_count": 6,
   "metadata": {},
   "outputs": [
    {
     "name": "stdout",
     "output_type": "stream",
     "text": [
      "8.862 ms\n"
     ]
    }
   ],
   "source": [
    "timer(\"cv2.imshow(cv2.namedWindow('window1'), img)\", default_setup, 15)"
   ]
  },
  {
   "cell_type": "markdown",
   "metadata": {},
   "source": [
    "## 3. Saving an image"
   ]
  },
  {
   "cell_type": "code",
   "execution_count": 7,
   "metadata": {},
   "outputs": [
    {
     "name": "stdout",
     "output_type": "stream",
     "text": [
      "100.882 ms\n"
     ]
    }
   ],
   "source": [
    "timer(\"cv2.imwrite('/Users/kimfung/london-copy.png', img)\", default_setup, 8)"
   ]
  },
  {
   "cell_type": "markdown",
   "metadata": {},
   "source": [
    "## 4. Displaying image size"
   ]
  },
  {
   "cell_type": "code",
   "execution_count": 8,
   "metadata": {},
   "outputs": [
    {
     "name": "stdout",
     "output_type": "stream",
     "text": [
      "189.199 ns\n"
     ]
    }
   ],
   "source": [
    "print(str(round(timeit.timeit(stmt = \"tuple(img.shape[1::-1])\", setup = default_setup, number = 10000)/(10000/10**9), 3)), \"ns\")"
   ]
  },
  {
   "cell_type": "markdown",
   "metadata": {},
   "source": [
    "## 5. Applying Laplacian filtering"
   ]
  },
  {
   "cell_type": "code",
   "execution_count": 9,
   "metadata": {},
   "outputs": [
    {
     "name": "stdout",
     "output_type": "stream",
     "text": [
      "13.625 ms\n"
     ]
    }
   ],
   "source": [
    "timer(\"cv2.Laplacian(img, cv2.CV_64F)\", default_setup, 63)"
   ]
  },
  {
   "cell_type": "markdown",
   "metadata": {},
   "source": [
    "## 6. Applying Gaussian filtering"
   ]
  },
  {
   "cell_type": "code",
   "execution_count": 10,
   "metadata": {},
   "outputs": [
    {
     "name": "stdout",
     "output_type": "stream",
     "text": [
      "1.054 ms\n"
     ]
    }
   ],
   "source": [
    "timer(\"cv2.GaussianBlur(img,(5,5),cv2.BORDER_DEFAULT)\", default_setup, 6)"
   ]
  },
  {
   "cell_type": "markdown",
   "metadata": {},
   "source": [
    "## 7. Arbitrary resizing"
   ]
  },
  {
   "cell_type": "code",
   "execution_count": 11,
   "metadata": {},
   "outputs": [
    {
     "name": "stdout",
     "output_type": "stream",
     "text": [
      "0.408 ms\n"
     ]
    }
   ],
   "source": [
    "timer(\"cv2.resize(img, None, fx = 1/2, fy = 1/2)\", default_setup, 164)"
   ]
  },
  {
   "cell_type": "markdown",
   "metadata": {},
   "source": [
    "## 8. Image rotation"
   ]
  },
  {
   "cell_type": "code",
   "execution_count": 12,
   "metadata": {},
   "outputs": [
    {
     "name": "stdout",
     "output_type": "stream",
     "text": [
      "3.91 ms\n"
     ]
    }
   ],
   "source": [
    "timer(\"cv2.warpAffine(img, cv2.getRotationMatrix2D((img.shape[0]/2,img.shape[1]/2),270, 1), (img.shape[0],img.shape[1]))\", default_setup, 18)"
   ]
  },
  {
   "cell_type": "markdown",
   "metadata": {},
   "source": [
    "## 9. Filling an image black"
   ]
  },
  {
   "cell_type": "code",
   "execution_count": 13,
   "metadata": {},
   "outputs": [
    {
     "name": "stdout",
     "output_type": "stream",
     "text": [
      "12.128 ms\n"
     ]
    }
   ],
   "source": [
    "timer(\"img[:] = (0, 0, 0)\", default_setup, 100)"
   ]
  },
  {
   "cell_type": "markdown",
   "metadata": {},
   "source": [
    "## 10. Grayscaling"
   ]
  },
  {
   "cell_type": "code",
   "execution_count": 14,
   "metadata": {},
   "outputs": [
    {
     "name": "stdout",
     "output_type": "stream",
     "text": [
      "0.405 ms\n"
     ]
    }
   ],
   "source": [
    "timer(\"cv2.cvtColor(img, cv2.COLOR_BGR2GRAY)\", default_setup, 242)"
   ]
  },
  {
   "cell_type": "markdown",
   "metadata": {},
   "source": [
    "## 11. Converting to an HSV representation"
   ]
  },
  {
   "cell_type": "code",
   "execution_count": 15,
   "metadata": {},
   "outputs": [
    {
     "name": "stdout",
     "output_type": "stream",
     "text": [
      "1.041 ms\n"
     ]
    }
   ],
   "source": [
    "timer(\"cv2.cvtColor(img, cv2.COLOR_BGR2HSV)\", default_setup, 85)"
   ]
  },
  {
   "cell_type": "markdown",
   "metadata": {},
   "source": [
    "## 12. Getting a grayscale histogram"
   ]
  },
  {
   "cell_type": "code",
   "execution_count": 16,
   "metadata": {},
   "outputs": [
    {
     "name": "stdout",
     "output_type": "stream",
     "text": [
      "1.582 ms\n"
     ]
    }
   ],
   "source": [
    "timer(\"cv2.calcHist([img],[0],None,[256],[0,256])\", default_setup, 23)"
   ]
  },
  {
   "cell_type": "markdown",
   "metadata": {},
   "source": [
    "## 13. Getting a histogram equalised image"
   ]
  },
  {
   "cell_type": "code",
   "execution_count": 17,
   "metadata": {},
   "outputs": [
    {
     "name": "stdout",
     "output_type": "stream",
     "text": [
      "1.071 ms\n"
     ]
    }
   ],
   "source": [
    "timer(\"cv2.equalizeHist(img)\", '''import cv2\n",
    "img = cv2.imread('/Users/kimfung/london.png', 0)''', 12)"
   ]
  },
  {
   "cell_type": "markdown",
   "metadata": {},
   "source": [
    "## 14. Getting a gamma corrected image"
   ]
  },
  {
   "cell_type": "code",
   "execution_count": 18,
   "metadata": {},
   "outputs": [
    {
     "name": "stdout",
     "output_type": "stream",
     "text": [
      "2.308 ms\n"
     ]
    }
   ],
   "source": [
    "setup = '''import cv2\n",
    "import numpy as np\n",
    "img = cv2.imread('/Users/kimfung/london.png', 1)\n",
    "def adjust_gamma(image, gamma):\n",
    "   table = np.array([((i / 255.0) ** (1.0/gamma)) * 255\n",
    "      for i in np.arange(0, 256)]).astype(\"uint8\")\n",
    "   return cv2.LUT(image, table)'''\n",
    "\n",
    "stmt = '''gamma = 0.5\n",
    "cv2.putText(adjust_gamma(img, gamma), \"g={}\".format(gamma), (10, 30),cv2.FONT_HERSHEY_SIMPLEX, 0.8, (0, 0, 255), 3)'''\n",
    "\n",
    "timer(stmt, setup, 9)"
   ]
  }
 ],
 "metadata": {
  "kernelspec": {
   "display_name": "Python 3",
   "language": "python",
   "name": "python3"
  },
  "language_info": {
   "codemirror_mode": {
    "name": "ipython",
    "version": 3
   },
   "file_extension": ".py",
   "mimetype": "text/x-python",
   "name": "python",
   "nbconvert_exporter": "python",
   "pygments_lexer": "ipython3",
   "version": "3.7.4"
  }
 },
 "nbformat": 4,
 "nbformat_minor": 2
}
