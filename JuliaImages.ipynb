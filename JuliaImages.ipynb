{
 "cells": [
  {
   "cell_type": "markdown",
   "metadata": {},
   "source": [
    "# Images.jl"
   ]
  },
  {
   "cell_type": "code",
   "execution_count": 3,
   "metadata": {},
   "outputs": [],
   "source": [
    "using Images, FileIO, BenchmarkTools, ImageMagick, QuartzImageIO, ImageView\n",
    "img = load(\"/Users/kimfung/london.png\");"
   ]
  },
  {
   "cell_type": "markdown",
   "metadata": {},
   "source": [
    "## 1. Loading an image"
   ]
  },
  {
   "cell_type": "code",
   "execution_count": 18,
   "metadata": {},
   "outputs": [
    {
     "data": {
      "text/plain": [
       "BenchmarkTools.Trial: \n",
       "  memory estimate:  21.18 MiB\n",
       "  allocs estimate:  294\n",
       "  --------------\n",
       "  minimum time:     315.736 ms (0.00% GC)\n",
       "  median time:      398.013 ms (0.00% GC)\n",
       "  mean time:        395.282 ms (0.58% GC)\n",
       "  maximum time:     412.350 ms (1.80% GC)\n",
       "  --------------\n",
       "  samples:          13\n",
       "  evals/sample:     1"
      ]
     },
     "execution_count": 18,
     "metadata": {},
     "output_type": "execute_result"
    }
   ],
   "source": [
    "@benchmark load(\"/Users/kimfung/london.png\")"
   ]
  },
  {
   "cell_type": "markdown",
   "metadata": {},
   "source": [
    "## 2. Displaying an image"
   ]
  },
  {
   "cell_type": "code",
   "execution_count": 14,
   "metadata": {},
   "outputs": [
    {
     "data": {
      "text/plain": [
       "BenchmarkTools.Trial: \n",
       "  memory estimate:  133.33 KiB\n",
       "  allocs estimate:  2104\n",
       "  --------------\n",
       "  minimum time:     348.599 ms (0.00% GC)\n",
       "  median time:      353.090 ms (0.00% GC)\n",
       "  mean time:        355.328 ms (0.00% GC)\n",
       "  maximum time:     379.956 ms (0.00% GC)\n",
       "  --------------\n",
       "  samples:          15\n",
       "  evals/sample:     1"
      ]
     },
     "execution_count": 14,
     "metadata": {},
     "output_type": "execute_result"
    }
   ],
   "source": [
    "@benchmark imshow(img)"
   ]
  },
  {
   "cell_type": "markdown",
   "metadata": {},
   "source": [
    "## 3. Saving an image"
   ]
  },
  {
   "cell_type": "code",
   "execution_count": 15,
   "metadata": {},
   "outputs": [
    {
     "data": {
      "text/plain": [
       "BenchmarkTools.Trial: \n",
       "  memory estimate:  31.76 MiB\n",
       "  allocs estimate:  244\n",
       "  --------------\n",
       "  minimum time:     625.430 ms (0.00% GC)\n",
       "  median time:      729.443 ms (0.30% GC)\n",
       "  mean time:        706.732 ms (0.41% GC)\n",
       "  maximum time:     754.005 ms (0.00% GC)\n",
       "  --------------\n",
       "  samples:          8\n",
       "  evals/sample:     1"
      ]
     },
     "execution_count": 15,
     "metadata": {},
     "output_type": "execute_result"
    }
   ],
   "source": [
    "@benchmark save(\"/Users/kimfung/london-copy.png\", img)"
   ]
  },
  {
   "cell_type": "markdown",
   "metadata": {},
   "source": [
    "## 4. Displaying image size"
   ]
  },
  {
   "cell_type": "code",
   "execution_count": 17,
   "metadata": {},
   "outputs": [
    {
     "data": {
      "text/plain": [
       "BenchmarkTools.Trial: \n",
       "  memory estimate:  32 bytes\n",
       "  allocs estimate:  1\n",
       "  --------------\n",
       "  minimum time:     21.615 ns (0.00% GC)\n",
       "  median time:      44.032 ns (0.00% GC)\n",
       "  mean time:        51.257 ns (9.93% GC)\n",
       "  maximum time:     8.433 μs (99.40% GC)\n",
       "  --------------\n",
       "  samples:          10000\n",
       "  evals/sample:     994"
      ]
     },
     "execution_count": 17,
     "metadata": {},
     "output_type": "execute_result"
    }
   ],
   "source": [
    "@benchmark size(img)"
   ]
  },
  {
   "cell_type": "markdown",
   "metadata": {},
   "source": [
    "## 5. Applying Laplacian filtering"
   ]
  },
  {
   "cell_type": "code",
   "execution_count": 19,
   "metadata": {},
   "outputs": [
    {
     "data": {
      "text/plain": [
       "BenchmarkTools.Trial: \n",
       "  memory estimate:  84.80 MiB\n",
       "  allocs estimate:  30\n",
       "  --------------\n",
       "  minimum time:     34.847 ms (0.00% GC)\n",
       "  median time:      74.177 ms (13.65% GC)\n",
       "  mean time:        80.182 ms (18.26% GC)\n",
       "  maximum time:     286.552 ms (72.88% GC)\n",
       "  --------------\n",
       "  samples:          63\n",
       "  evals/sample:     1"
      ]
     },
     "execution_count": 19,
     "metadata": {},
     "output_type": "execute_result"
    }
   ],
   "source": [
    "@benchmark imfilter(img, Kernel.Laplacian())"
   ]
  },
  {
   "cell_type": "markdown",
   "metadata": {},
   "source": [
    "## 6. Applying Gaussian filtering"
   ]
  },
  {
   "cell_type": "code",
   "execution_count": 4,
   "metadata": {},
   "outputs": [
    {
     "data": {
      "text/plain": [
       "BenchmarkTools.Trial: \n",
       "  memory estimate:  171.64 MiB\n",
       "  allocs estimate:  3374\n",
       "  --------------\n",
       "  minimum time:     461.833 ms (2.91% GC)\n",
       "  median time:      504.886 ms (2.61% GC)\n",
       "  mean time:        529.559 ms (7.84% GC)\n",
       "  maximum time:     682.113 ms (27.16% GC)\n",
       "  --------------\n",
       "  samples:          10\n",
       "  evals/sample:     1"
      ]
     },
     "execution_count": 4,
     "metadata": {},
     "output_type": "execute_result"
    }
   ],
   "source": [
    "@benchmark imfilter(img, Kernel.gaussian(5))"
   ]
  },
  {
   "cell_type": "markdown",
   "metadata": {},
   "source": [
    "## 7. Arbitrary resizing"
   ]
  },
  {
   "cell_type": "code",
   "execution_count": 20,
   "metadata": {
    "scrolled": true
   },
   "outputs": [
    {
     "data": {
      "text/plain": [
       "BenchmarkTools.Trial: \n",
       "  memory estimate:  13.23 MiB\n",
       "  allocs estimate:  6\n",
       "  --------------\n",
       "  minimum time:     15.807 ms (0.00% GC)\n",
       "  median time:      35.502 ms (0.00% GC)\n",
       "  mean time:        30.540 ms (4.79% GC)\n",
       "  maximum time:     50.373 ms (7.31% GC)\n",
       "  --------------\n",
       "  samples:          164\n",
       "  evals/sample:     1"
      ]
     },
     "execution_count": 20,
     "metadata": {},
     "output_type": "execute_result"
    }
   ],
   "source": [
    "@benchmark imresize(img, ratio=1/2)"
   ]
  },
  {
   "cell_type": "markdown",
   "metadata": {},
   "source": [
    "## 8. Image rotation"
   ]
  },
  {
   "cell_type": "code",
   "execution_count": 21,
   "metadata": {},
   "outputs": [
    {
     "data": {
      "text/plain": [
       "BenchmarkTools.Trial: \n",
       "  memory estimate:  22.06 MiB\n",
       "  allocs estimate:  5\n",
       "  --------------\n",
       "  minimum time:     243.227 ms (2.44% GC)\n",
       "  median time:      277.063 ms (0.00% GC)\n",
       "  mean time:        284.137 ms (0.62% GC)\n",
       "  maximum time:     358.759 ms (0.00% GC)\n",
       "  --------------\n",
       "  samples:          18\n",
       "  evals/sample:     1"
      ]
     },
     "execution_count": 21,
     "metadata": {},
     "output_type": "execute_result"
    }
   ],
   "source": [
    "@benchmark imrotate(img, 3π/4)"
   ]
  },
  {
   "cell_type": "markdown",
   "metadata": {},
   "source": [
    "## 9. Filling an image black"
   ]
  },
  {
   "cell_type": "code",
   "execution_count": 22,
   "metadata": {},
   "outputs": [
    {
     "data": {
      "text/plain": [
       "BenchmarkTools.Trial: \n",
       "  memory estimate:  80 bytes\n",
       "  allocs estimate:  1\n",
       "  --------------\n",
       "  minimum time:     40.725 ns (0.00% GC)\n",
       "  median time:      47.282 ns (0.00% GC)\n",
       "  mean time:        90.772 ns (14.05% GC)\n",
       "  maximum time:     20.836 μs (99.64% GC)\n",
       "  --------------\n",
       "  samples:          10000\n",
       "  evals/sample:     973"
      ]
     },
     "execution_count": 22,
     "metadata": {},
     "output_type": "execute_result"
    }
   ],
   "source": [
    "@benchmark fill(img, 0)"
   ]
  },
  {
   "cell_type": "markdown",
   "metadata": {},
   "source": [
    "## 10. Grayscaling"
   ]
  },
  {
   "cell_type": "code",
   "execution_count": 24,
   "metadata": {},
   "outputs": [
    {
     "data": {
      "text/plain": [
       "BenchmarkTools.Trial: \n",
       "  memory estimate:  2.65 MiB\n",
       "  allocs estimate:  8\n",
       "  --------------\n",
       "  minimum time:     9.594 ms (0.00% GC)\n",
       "  median time:      14.266 ms (0.00% GC)\n",
       "  mean time:        20.687 ms (1.40% GC)\n",
       "  maximum time:     45.472 ms (9.93% GC)\n",
       "  --------------\n",
       "  samples:          242\n",
       "  evals/sample:     1"
      ]
     },
     "execution_count": 24,
     "metadata": {},
     "output_type": "execute_result"
    }
   ],
   "source": [
    "@benchmark Gray.(img)"
   ]
  },
  {
   "cell_type": "markdown",
   "metadata": {},
   "source": [
    "## 11. Converting to an HSV representation"
   ]
  },
  {
   "cell_type": "code",
   "execution_count": 25,
   "metadata": {},
   "outputs": [
    {
     "data": {
      "text/plain": [
       "BenchmarkTools.Trial: \n",
       "  memory estimate:  31.75 MiB\n",
       "  allocs estimate:  8\n",
       "  --------------\n",
       "  minimum time:     47.774 ms (0.00% GC)\n",
       "  median time:      53.940 ms (0.00% GC)\n",
       "  mean time:        59.745 ms (6.90% GC)\n",
       "  maximum time:     101.070 ms (7.15% GC)\n",
       "  --------------\n",
       "  samples:          85\n",
       "  evals/sample:     1"
      ]
     },
     "execution_count": 25,
     "metadata": {},
     "output_type": "execute_result"
    }
   ],
   "source": [
    "@benchmark HSV.(img)"
   ]
  },
  {
   "cell_type": "markdown",
   "metadata": {},
   "source": [
    "## 12. Getting a grayscale histogram"
   ]
  },
  {
   "cell_type": "code",
   "execution_count": 26,
   "metadata": {},
   "outputs": [
    {
     "data": {
      "text/plain": [
       "BenchmarkTools.Trial: \n",
       "  memory estimate:  2.65 MiB\n",
       "  allocs estimate:  5\n",
       "  --------------\n",
       "  minimum time:     199.860 ms (0.00% GC)\n",
       "  median time:      210.251 ms (0.00% GC)\n",
       "  mean time:        226.654 ms (0.06% GC)\n",
       "  maximum time:     306.223 ms (0.00% GC)\n",
       "  --------------\n",
       "  samples:          23\n",
       "  evals/sample:     1"
      ]
     },
     "execution_count": 26,
     "metadata": {},
     "output_type": "execute_result"
    }
   ],
   "source": [
    "@benchmark imhist(img,256)"
   ]
  },
  {
   "cell_type": "markdown",
   "metadata": {},
   "source": [
    "## 13. Getting a histogram equalised image"
   ]
  },
  {
   "cell_type": "code",
   "execution_count": 27,
   "metadata": {},
   "outputs": [
    {
     "data": {
      "text/plain": [
       "BenchmarkTools.Trial: \n",
       "  memory estimate:  10.59 MiB\n",
       "  allocs estimate:  6\n",
       "  --------------\n",
       "  minimum time:     396.413 ms (0.00% GC)\n",
       "  median time:      439.201 ms (0.00% GC)\n",
       "  mean time:        438.124 ms (0.56% GC)\n",
       "  maximum time:     506.690 ms (0.00% GC)\n",
       "  --------------\n",
       "  samples:          12\n",
       "  evals/sample:     1"
      ]
     },
     "execution_count": 27,
     "metadata": {},
     "output_type": "execute_result"
    }
   ],
   "source": [
    "@benchmark histeq(img,256)"
   ]
  },
  {
   "cell_type": "markdown",
   "metadata": {},
   "source": [
    "## 14. Getting a gamma corrected image"
   ]
  },
  {
   "cell_type": "code",
   "execution_count": 28,
   "metadata": {},
   "outputs": [
    {
     "data": {
      "text/plain": [
       "BenchmarkTools.Trial: \n",
       "  memory estimate:  95.24 MiB\n",
       "  allocs estimate:  5548282\n",
       "  --------------\n",
       "  minimum time:     508.122 ms (0.60% GC)\n",
       "  median time:      601.796 ms (1.09% GC)\n",
       "  mean time:        594.044 ms (1.41% GC)\n",
       "  maximum time:     704.972 ms (0.93% GC)\n",
       "  --------------\n",
       "  samples:          9\n",
       "  evals/sample:     1"
      ]
     },
     "execution_count": 28,
     "metadata": {},
     "output_type": "execute_result"
    }
   ],
   "source": [
    "@benchmark adjust_gamma(img,1/2)"
   ]
  }
 ],
 "metadata": {
  "kernelspec": {
   "display_name": "Julia 1.3.0",
   "language": "julia",
   "name": "julia-1.3"
  },
  "language_info": {
   "file_extension": ".jl",
   "mimetype": "application/julia",
   "name": "julia",
   "version": "1.3.0"
  }
 },
 "nbformat": 4,
 "nbformat_minor": 2
}
