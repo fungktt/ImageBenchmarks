{
 "cells": [
  {
   "cell_type": "markdown",
   "metadata": {},
   "source": [
    "# scikit-image"
   ]
  },
  {
   "cell_type": "code",
   "execution_count": 42,
   "metadata": {},
   "outputs": [],
   "source": [
    "import timeit, skimage\n",
    "from skimage import io, data, filters, transform, exposure\n",
    "from skimage.color import rgb2gray, rgb2hsv\n",
    "from matplotlib import pyplot as plt\n",
    "\n",
    "default_setup = \"\"\"import skimage\n",
    "from skimage import io, data, filters, transform, exposure\n",
    "from skimage.color import rgb2gray, rgb2hsv\n",
    "from matplotlib import pyplot as plt\n",
    "img = io.imread('/Users/kimfung/london.png')\n",
    "\"\"\"\n",
    "\n",
    "def timer(s1, s2, num):\n",
    "    print(str(round(timeit.timeit(stmt = s1, setup = s2, number = num)/(num/1000), 3)), \"ms\")"
   ]
  },
  {
   "cell_type": "markdown",
   "metadata": {},
   "source": [
    "## 1. Loading an image"
   ]
  },
  {
   "cell_type": "code",
   "execution_count": 17,
   "metadata": {},
   "outputs": [
    {
     "name": "stdout",
     "output_type": "stream",
     "text": [
      "108.628 ms\n"
     ]
    }
   ],
   "source": [
    "timer(\"io.imread('/Users/kimfung/london.png')\", \"import skimage\\nfrom skimage import io\", 13)"
   ]
  },
  {
   "cell_type": "markdown",
   "metadata": {},
   "source": [
    "## 2. Displaying an image"
   ]
  },
  {
   "cell_type": "code",
   "execution_count": 22,
   "metadata": {},
   "outputs": [
    {
     "name": "stdout",
     "output_type": "stream",
     "text": [
      "369.267 ms\n"
     ]
    }
   ],
   "source": [
    "timer(\"io.imshow(img)\\nplt.show()\", default_setup, 15)"
   ]
  },
  {
   "cell_type": "markdown",
   "metadata": {},
   "source": [
    "## 3. Saving an image"
   ]
  },
  {
   "cell_type": "code",
   "execution_count": 24,
   "metadata": {},
   "outputs": [
    {
     "name": "stdout",
     "output_type": "stream",
     "text": [
      "5.827 ms\n"
     ]
    }
   ],
   "source": [
    "timer(\"plt.savefig('/Users/kimfung/london-copy.png')\", default_setup, 8)"
   ]
  },
  {
   "cell_type": "markdown",
   "metadata": {},
   "source": [
    "## 4. Displaying image size"
   ]
  },
  {
   "cell_type": "code",
   "execution_count": 25,
   "metadata": {},
   "outputs": [
    {
     "name": "stdout",
     "output_type": "stream",
     "text": [
      "198.249 ns\n"
     ]
    }
   ],
   "source": [
    "print(str(round(timeit.timeit(stmt = \"tuple(img.shape[1::-1])\", setup = default_setup, number = 10000)/(10000/10**9), 3)), \"ns\")"
   ]
  },
  {
   "cell_type": "markdown",
   "metadata": {},
   "source": [
    "## 5. Applying Laplacian filtering"
   ]
  },
  {
   "cell_type": "code",
   "execution_count": 28,
   "metadata": {},
   "outputs": [
    {
     "name": "stdout",
     "output_type": "stream",
     "text": [
      "95.63 ms\n"
     ]
    }
   ],
   "source": [
    "timer(\"filters.laplace(img)\", default_setup, 63)"
   ]
  },
  {
   "cell_type": "markdown",
   "metadata": {},
   "source": [
    "## 6. Applying Gaussian filtering"
   ]
  },
  {
   "cell_type": "code",
   "execution_count": 30,
   "metadata": {},
   "outputs": [
    {
     "name": "stdout",
     "output_type": "stream",
     "text": [
      "132.463 ms\n"
     ]
    }
   ],
   "source": [
    "timer(\"filters.gaussian(img)\", default_setup, 6)"
   ]
  },
  {
   "cell_type": "markdown",
   "metadata": {},
   "source": [
    "## 7. Arbitrary resizing"
   ]
  },
  {
   "cell_type": "code",
   "execution_count": 33,
   "metadata": {},
   "outputs": [
    {
     "name": "stdout",
     "output_type": "stream",
     "text": [
      "176.474 ms\n"
     ]
    }
   ],
   "source": [
    "timer(\"transform.rescale(img, 1/2)\", default_setup, 164)"
   ]
  },
  {
   "cell_type": "markdown",
   "metadata": {},
   "source": [
    "## 8. Image rotation"
   ]
  },
  {
   "cell_type": "code",
   "execution_count": 34,
   "metadata": {},
   "outputs": [
    {
     "name": "stdout",
     "output_type": "stream",
     "text": [
      "275.552 ms\n"
     ]
    }
   ],
   "source": [
    "timer(\"transform.rotate(img, 270)\", default_setup, 18)"
   ]
  },
  {
   "cell_type": "markdown",
   "metadata": {},
   "source": [
    "## 9. Filling an image black"
   ]
  },
  {
   "cell_type": "code",
   "execution_count": 35,
   "metadata": {},
   "outputs": [
    {
     "name": "stdout",
     "output_type": "stream",
     "text": [
      "12.28 ms\n"
     ]
    }
   ],
   "source": [
    "timer(\"img[:] = (0, 0, 0)\", default_setup, 100)"
   ]
  },
  {
   "cell_type": "markdown",
   "metadata": {},
   "source": [
    "## 10. Grayscaling"
   ]
  },
  {
   "cell_type": "code",
   "execution_count": 38,
   "metadata": {},
   "outputs": [
    {
     "name": "stdout",
     "output_type": "stream",
     "text": [
      "22.007 ms\n"
     ]
    }
   ],
   "source": [
    "timer(\"rgb2gray(img)\", default_setup, 242)"
   ]
  },
  {
   "cell_type": "markdown",
   "metadata": {},
   "source": [
    "## 11. Converting to an HSV representation"
   ]
  },
  {
   "cell_type": "code",
   "execution_count": 41,
   "metadata": {},
   "outputs": [
    {
     "name": "stdout",
     "output_type": "stream",
     "text": [
      "434.09 ms\n"
     ]
    }
   ],
   "source": [
    "timer(\"rgb2hsv(img)\", default_setup, 85)"
   ]
  },
  {
   "cell_type": "markdown",
   "metadata": {},
   "source": [
    "## 12. Getting a grayscale histogram"
   ]
  },
  {
   "cell_type": "code",
   "execution_count": 44,
   "metadata": {},
   "outputs": [
    {
     "name": "stdout",
     "output_type": "stream",
     "text": [
      "30.512 ms\n"
     ]
    }
   ],
   "source": [
    "timer(\"exposure.histogram(img, nbins=256)\", default_setup, 23)"
   ]
  },
  {
   "cell_type": "markdown",
   "metadata": {},
   "source": [
    "## 13. Getting a histogram equalised image"
   ]
  },
  {
   "cell_type": "code",
   "execution_count": 45,
   "metadata": {},
   "outputs": [
    {
     "name": "stdout",
     "output_type": "stream",
     "text": [
      "251.342 ms\n"
     ]
    }
   ],
   "source": [
    "timer(\"exposure.equalize_hist(img, nbins=256)\", default_setup, 12)"
   ]
  },
  {
   "cell_type": "markdown",
   "metadata": {},
   "source": [
    "## 14. Getting a gamma corrected image"
   ]
  },
  {
   "cell_type": "code",
   "execution_count": 46,
   "metadata": {},
   "outputs": [
    {
     "name": "stdout",
     "output_type": "stream",
     "text": [
      "187.379 ms\n"
     ]
    }
   ],
   "source": [
    "timer(\"exposure.adjust_gamma(img, gamma=256)\", default_setup, 9)"
   ]
  }
 ],
 "metadata": {
  "kernelspec": {
   "display_name": "Python 3",
   "language": "python",
   "name": "python3"
  },
  "language_info": {
   "codemirror_mode": {
    "name": "ipython",
    "version": 3
   },
   "file_extension": ".py",
   "mimetype": "text/x-python",
   "name": "python",
   "nbconvert_exporter": "python",
   "pygments_lexer": "ipython3",
   "version": "3.7.4"
  }
 },
 "nbformat": 4,
 "nbformat_minor": 2
}
